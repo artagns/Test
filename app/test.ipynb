{
 "cells": [
  {
   "cell_type": "code",
   "execution_count": 21,
   "metadata": {},
   "outputs": [],
   "source": [
    "from pydantic import BaseModel, EmailStr\n",
    "from datetime import date\n",
    "import datetime\n",
    "\n",
    "class Post(BaseModel) :\n",
    "    post_id: int\n",
    "    title: str\n",
    "    content: str\n",
    "    publish_date: datetime.datetime\n",
    "    owner_username: str\n",
    "    # class Config:\n",
    "    #     orm_mode = True\n",
    "    #     ignore_extra = True\n",
    "\n",
    "d = {\n",
    "    # '_sa_instance_state': \"<sqlalchemy.orm.state.InstanceState object at 0x105135f70>\",\n",
    "    'content': 'hello world',\n",
    "    'owner_username': 'user1',\n",
    "    'post_id': 1,\n",
    "    'publish_date': datetime.datetime(2023, 8, 17, 21, 20),\n",
    "    'title': 'first post'\n",
    " }"
   ]
  },
  {
   "cell_type": "code",
   "execution_count": 22,
   "metadata": {},
   "outputs": [
    {
     "data": {
      "text/plain": [
       "Post(post_id=1, title='first post', content='hello world', publish_date=datetime.datetime(2023, 8, 17, 21, 20), owner_username='user1')"
      ]
     },
     "execution_count": 22,
     "metadata": {},
     "output_type": "execute_result"
    }
   ],
   "source": [
    "Post(**d)\n"
   ]
  },
  {
   "cell_type": "code",
   "execution_count": 1,
   "metadata": {},
   "outputs": [],
   "source": [
    "from pydantic import BaseModel, EmailStr, ConfigDict\n",
    "from typing import Optional, List\n",
    "import datetime\n",
    "\n",
    "from sqlalchemy import VARCHAR, Column, TEXT, Integer, ForeignKey\n",
    "from sqlalchemy.orm import relationship\n",
    "\n",
    "from sqlalchemy.sql.sqltypes import TIMESTAMP\n",
    "from sqlalchemy.sql.expression import text\n",
    "\n",
    "from database import Base\n",
    "\n",
    "class PostORM(Base) :\n",
    "    __tablename__ = \"posts\"\n",
    "    post_id = Column(Integer, primary_key=True)\n",
    "    title= Column(VARCHAR(50), nullable=True)\n",
    "    content = Column(TEXT, nullable=True)\n",
    "    owner_username = Column(VARCHAR(50), ForeignKey(\"users.username\", ondelete=\"cascade\"), nullable=False)\n"
   ]
  },
  {
   "cell_type": "code",
   "execution_count": 11,
   "metadata": {},
   "outputs": [],
   "source": [
    "\n",
    "class Post(BaseModel) :\n",
    "    model_config = ConfigDict(from_attributes=True)\n",
    "    post_id: int\n",
    "    title: str\n",
    "    content: str\n",
    "    owner_username: str\n",
    "\n",
    "class PostLike(BaseModel): \n",
    "    model_config = ConfigDict(from_attributes=True)\n",
    "    post: Post  # pydantic Post\n",
    "    likes: int\n",
    "    # post: List[Post, int]"
   ]
  },
  {
   "cell_type": "code",
   "execution_count": 3,
   "metadata": {},
   "outputs": [],
   "source": [
    "post_orm = PostORM(\n",
    "    post_id=1,\n",
    "    title=\"title\",\n",
    "    content=\"content\",\n",
    "    owner_username=\"username\"\n",
    ")\n",
    "post_orm2 = PostORM(\n",
    "    post_id=1,\n",
    "    title=\"title\",\n",
    "    content=\"content\",\n",
    "    owner_username=\"username\"\n",
    ")"
   ]
  },
  {
   "cell_type": "code",
   "execution_count": 4,
   "metadata": {},
   "outputs": [
    {
     "data": {
      "text/plain": [
       "<__main__.PostORM at 0x1049ec750>"
      ]
     },
     "execution_count": 4,
     "metadata": {},
     "output_type": "execute_result"
    }
   ],
   "source": [
    "post_orm"
   ]
  },
  {
   "cell_type": "code",
   "execution_count": 5,
   "metadata": {},
   "outputs": [
    {
     "data": {
      "text/plain": [
       "Post(post_id=1, title='title', content='content', owner_username='username')"
      ]
     },
     "execution_count": 5,
     "metadata": {},
     "output_type": "execute_result"
    }
   ],
   "source": [
    "Post.model_validate(post_orm)\n"
   ]
  },
  {
   "cell_type": "code",
   "execution_count": 13,
   "metadata": {},
   "outputs": [
    {
     "data": {
      "text/plain": [
       "[(<__main__.PostORM at 0x1049ec750>, 2),\n",
       " (<__main__.PostORM at 0x10784a710>, 1)]"
      ]
     },
     "execution_count": 13,
     "metadata": {},
     "output_type": "execute_result"
    }
   ],
   "source": [
    "result = [(post_orm, 2), (post_orm2, 1)]\n",
    "result"
   ]
  },
  {
   "cell_type": "code",
   "execution_count": 16,
   "metadata": {},
   "outputs": [
    {
     "data": {
      "text/plain": [
       "[PostLike(post=Post(post_id=1, title='title', content='content', owner_username='username'), likes=2),\n",
       " PostLike(post=Post(post_id=1, title='title', content='content', owner_username='username'), likes=1)]"
      ]
     },
     "execution_count": 16,
     "metadata": {},
     "output_type": "execute_result"
    }
   ],
   "source": [
    "list(map(lambda pl: PostLike(post=Post.model_validate(pl[0]), likes=pl[1]), result))"
   ]
  },
  {
   "cell_type": "code",
   "execution_count": 9,
   "metadata": {},
   "outputs": [],
   "source": [
    "post_like = PostLike(\n",
    "    post=Post.model_validate(post_orm),\n",
    "    likes=result[1]\n",
    ")"
   ]
  },
  {
   "cell_type": "code",
   "execution_count": 10,
   "metadata": {},
   "outputs": [
    {
     "data": {
      "text/plain": [
       "PostLike(post=Post(post_id=1, title='title', content='content', owner_username='username'), likes=2)"
      ]
     },
     "execution_count": 10,
     "metadata": {},
     "output_type": "execute_result"
    }
   ],
   "source": [
    "post_like"
   ]
  },
  {
   "cell_type": "code",
   "execution_count": null,
   "metadata": {},
   "outputs": [],
   "source": []
  }
 ],
 "metadata": {
  "kernelspec": {
   "display_name": "fastapi",
   "language": "python",
   "name": "python3"
  },
  "language_info": {
   "codemirror_mode": {
    "name": "ipython",
    "version": 3
   },
   "file_extension": ".py",
   "mimetype": "text/x-python",
   "name": "python",
   "nbconvert_exporter": "python",
   "pygments_lexer": "ipython3",
   "version": "3.11.4"
  },
  "orig_nbformat": 4
 },
 "nbformat": 4,
 "nbformat_minor": 2
}
